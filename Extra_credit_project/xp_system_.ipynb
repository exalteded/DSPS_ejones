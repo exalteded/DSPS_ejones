{
  "nbformat": 4,
  "nbformat_minor": 0,
  "metadata": {
    "colab": {
      "name": "xp system .ipynb",
      "provenance": [],
      "include_colab_link": true
    },
    "kernelspec": {
      "name": "python3",
      "display_name": "Python 3"
    }
  },
  "cells": [
    {
      "cell_type": "markdown",
      "metadata": {
        "id": "view-in-github",
        "colab_type": "text"
      },
      "source": [
        "<a href=\"https://colab.research.google.com/github/exalteded/DSPS_ejones/blob/master/Extra_credit_project/xp_system_.ipynb\" target=\"_parent\"><img src=\"https://colab.research.google.com/assets/colab-badge.svg\" alt=\"Open In Colab\"/></a>"
      ]
    },
    {
      "cell_type": "code",
      "metadata": {
        "id": "1bI3fLPYES_V",
        "colab_type": "code",
        "colab": {}
      },
      "source": [
        "xp = 0\n",
        "import math"
      ],
      "execution_count": 0,
      "outputs": []
    },
    {
      "cell_type": "code",
      "metadata": {
        "id": "YISdCbWnEXFy",
        "colab_type": "code",
        "colab": {}
      },
      "source": [
        "def newmonth(int,month):\n",
        "  int = int+6\n",
        "  print(\"your new xp total after\", month, \"is\",int)\n",
        "  "
      ],
      "execution_count": 0,
      "outputs": []
    },
    {
      "cell_type": "code",
      "metadata": {
        "id": "2eOYMqcpEkZ5",
        "colab_type": "code",
        "outputId": "ac1b534e-df05-46b6-a52e-edee6fb311bd",
        "colab": {
          "base_uri": "https://localhost:8080/",
          "height": 34
        }
      },
      "source": [
        "newmonth(xp,\"game 16 november 2019\")"
      ],
      "execution_count": 0,
      "outputs": [
        {
          "output_type": "stream",
          "text": [
            "your new xp total after game 16 november 2019 is 6\n"
          ],
          "name": "stdout"
        }
      ]
    },
    {
      "cell_type": "code",
      "metadata": {
        "id": "c7cFVLZnEoD-",
        "colab_type": "code",
        "colab": {}
      },
      "source": [
        "def discipline(int,inclan,lab,expertteacher,livefire,CR,mentor):\n",
        "  if(CR == 0):\n",
        "    CR = 1\n",
        "  if(inclan == 0):\n",
        "    multiplier = 6\n",
        "    print(\"this costs\", multiplier*CR)\n",
        "  if(inclan == 1):\n",
        "    multiplier = 8\n",
        "    print(\"this costs\", multiplier*CR)\n",
        "  if(mentor == 0):\n",
        "    if(lab == 1):\n",
        "      multiplier = multiplier-1 \n",
        "    if(livefire==1):\n",
        "      multiplier = multiplier-1\n",
        "  else:\n",
        "    multiplier = multiplier - mentor\n",
        "  if(expertteacher==1):\n",
        "    multiplier = multiplier-1\n",
        "  if(int < multiplier * CR):\n",
        "    print(\"not enough xp\")\n",
        "    return int\n",
        "  if(int >= multiplier *CR):\n",
        "    print(\"this xp cost was reduced by\", int - multiplier*CR)\n",
        "    int = int - multiplier*CR   \n",
        "    print(\"new xp total is\")\n",
        "    return int"
      ],
      "execution_count": 0,
      "outputs": []
    },
    {
      "cell_type": "code",
      "metadata": {
        "id": "WKETI9boGAlE",
        "colab_type": "code",
        "outputId": "67243efd-44d1-4c81-bfbb-7686d2aed59b",
        "colab": {
          "base_uri": "https://localhost:8080/",
          "height": 85
        }
      },
      "source": [
        "discipline(18,0,1,0,1,3,0)"
      ],
      "execution_count": 0,
      "outputs": [
        {
          "output_type": "stream",
          "text": [
            "this costs 18\n",
            "this xp cost was reduced by 6\n",
            "new xp total is\n"
          ],
          "name": "stdout"
        },
        {
          "output_type": "execute_result",
          "data": {
            "text/plain": [
              "6"
            ]
          },
          "metadata": {
            "tags": []
          },
          "execution_count": 3
        }
      ]
    },
    {
      "cell_type": "code",
      "metadata": {
        "id": "kFN2hXrVGeop",
        "colab_type": "code",
        "colab": {}
      },
      "source": [
        "def ability(int,lab,livefire,expertteacher,mentor,CR):\n",
        "  multiplier = 3\n",
        "  if(CR == 0):\n",
        "    CR = 1\n",
        "  limiter = (multiplier*CR)/2\n",
        "  print(\"This costs\", limiter*2)\n",
        "  if(mentor == 0):\n",
        "    if(lab == 1):\n",
        "      multiplier = multiplier-1 \n",
        "    if(livefire==1):\n",
        "      multiplier = multiplier-1\n",
        "  else:\n",
        "    multiplier = multiplier - mentor\n",
        "  if(expertteacher==1):\n",
        "    multiplier = multiplier-1\n",
        "  if(multiplier*CR < limiter):\n",
        "    if(int <limiter):\n",
        "      print(\"not enough xp limiter route\")\n",
        "      return int\n",
        "    if(int >= limiter):\n",
        "      print(\"this xp cost was reduced by half from\", limiter*2,\"to\", math.ceil(limiter))\n",
        "      int = int - math.ceil(limiter) \n",
        "      print(\"new xp total is\")\n",
        "      return int\n",
        "  else:\n",
        "    if(int < multiplier * CR):\n",
        "      print(\"not enough xp multiplier route\")\n",
        "      return int\n",
        "    if(int >= multiplier *CR):\n",
        "      print(\"this xp cost was reduced by\", limiter*2 - multiplier*CR,\"from\",limiter*2,\"to\",limiter*2 -(limiter*2-multiplier*CR))\n",
        "      int = int - multiplier*CR   \n",
        "      print(\"new xp total is\")\n",
        "      return int"
      ],
      "execution_count": 0,
      "outputs": []
    },
    {
      "cell_type": "code",
      "metadata": {
        "id": "DUNNAVKEHliF",
        "colab_type": "code",
        "outputId": "93f1f25a-cfb9-4c61-d51e-b1c6ffd3de7d",
        "colab": {
          "base_uri": "https://localhost:8080/",
          "height": 84
        }
      },
      "source": [
        "ability(9,1,1,1,0,0)"
      ],
      "execution_count": 0,
      "outputs": [
        {
          "output_type": "stream",
          "text": [
            "This costs 3.0\n",
            "this xp cost was reduced by half from 3.0 to 2\n",
            "new xp total is\n"
          ],
          "name": "stdout"
        },
        {
          "output_type": "execute_result",
          "data": {
            "text/plain": [
              "7"
            ]
          },
          "metadata": {
            "tags": []
          },
          "execution_count": 112
        }
      ]
    },
    {
      "cell_type": "code",
      "metadata": {
        "id": "VWr5ZX2nMH0b",
        "colab_type": "code",
        "outputId": "a6818d5f-62b5-4401-f2de-dea6f94a0286",
        "colab": {
          "base_uri": "https://localhost:8080/",
          "height": 84
        }
      },
      "source": [
        "ability(9,1,0,0,0,4)"
      ],
      "execution_count": 0,
      "outputs": [
        {
          "output_type": "stream",
          "text": [
            "This costs 12.0\n",
            "this xp cost was reduced by 4.0 from 12.0 to 8.0\n",
            "new xp total is\n"
          ],
          "name": "stdout"
        },
        {
          "output_type": "execute_result",
          "data": {
            "text/plain": [
              "1"
            ]
          },
          "metadata": {
            "tags": []
          },
          "execution_count": 113
        }
      ]
    },
    {
      "cell_type": "code",
      "metadata": {
        "id": "ML2YA3O4NFUL",
        "colab_type": "code",
        "colab": {}
      },
      "source": [
        "def merit(int,lab,livefire,expertteacher,mentor,CR):\n",
        "  multiplier = 3\n",
        "  if(CR == 0):\n",
        "    CR = 1\n",
        "  limiter = (multiplier*CR)/2\n",
        "  print(\"This costs\", limiter*2)\n",
        "  if(mentor == 0):\n",
        "    if(lab == 1):\n",
        "      multiplier = multiplier-1 \n",
        "    if(livefire==1):\n",
        "      multiplier = multiplier-1\n",
        "  else:\n",
        "    multiplier = multiplier - mentor\n",
        "  if(expertteacher==1):\n",
        "    multiplier = multiplier-1\n",
        "  if(multiplier*CR < limiter):\n",
        "    if(int <limiter):\n",
        "      print(\"not enough xp limiter route\")\n",
        "      return int\n",
        "    if(int >= limiter):\n",
        "      print(\"this xp cost was reduced by half from\", limiter*2,\"to\", math.ceil(limiter))\n",
        "      int = int - math.ceil(limiter) \n",
        "      print(\"new xp total is\")\n",
        "      return int\n",
        "  else:\n",
        "    if(int < multiplier * CR):\n",
        "      print(\"not enough xp multiplier route\")\n",
        "      return int\n",
        "    if(int >= multiplier *CR):\n",
        "      print(\"this xp cost was reduced by\", limiter*2 - multiplier*CR,\"from\",limiter*2,\"to\",limiter*2 -(limiter*2-multiplier*CR))\n",
        "      int = int - multiplier*CR   \n",
        "      print(\"new xp total is\")\n",
        "      return int"
      ],
      "execution_count": 0,
      "outputs": []
    },
    {
      "cell_type": "code",
      "metadata": {
        "id": "B3IrJpGeSjEP",
        "colab_type": "code",
        "colab": {}
      },
      "source": [
        "def willpower(int,lab,livefire,expertteacher,mentor,CR):\n",
        "  multiplier = 2\n",
        "  if(CR == 0):\n",
        "    CR = 1\n",
        "  limiter = (multiplier*CR)/2\n",
        "  print(\"This costs\", limiter*2)\n",
        "  if(mentor == 0):\n",
        "    if(lab == 1):\n",
        "      multiplier = multiplier-1 \n",
        "    if(livefire==1):\n",
        "      multiplier = multiplier-1\n",
        "  else:\n",
        "    multiplier = multiplier - mentor\n",
        "  if(expertteacher==1):\n",
        "    multiplier = multiplier-1\n",
        "  if(multiplier*CR < limiter):\n",
        "    if(int <limiter):\n",
        "      print(\"not enough xp limiter route\")\n",
        "      return int\n",
        "    if(int >= limiter):\n",
        "      print(\"this xp cost was reduced by half from\", limiter*2,\"to\", math.ceil(limiter))\n",
        "      int = int - math.ceil(limiter) \n",
        "      print(\"new xp total is\")\n",
        "      return int\n",
        "  else:\n",
        "    if(int < multiplier * CR):\n",
        "      print(\"not enough xp multiplier route\")\n",
        "      return int\n",
        "    if(int >= multiplier *CR):\n",
        "      print(\"this xp cost was reduced by\", limiter*2 - multiplier*CR,\"from\",limiter*2,\"to\",limiter*2 -(limiter*2-multiplier*CR))\n",
        "      int = int - multiplier*CR   \n",
        "      print(\"new xp total is\")\n",
        "      return int"
      ],
      "execution_count": 0,
      "outputs": []
    },
    {
      "cell_type": "code",
      "metadata": {
        "id": "S2ugyYIpTIAr",
        "colab_type": "code",
        "colab": {}
      },
      "source": [
        "def virtue(int,lab,livefire,expertteacher,mentor,CR):\n",
        "  multiplier = 5\n",
        "  if(CR == 0):\n",
        "    CR = 1\n",
        "  limiter = (multiplier*CR)/2\n",
        "  print(\"This costs\", limiter*2)\n",
        "  if(mentor == 0):\n",
        "    if(lab == 1):\n",
        "      multiplier = multiplier-1 \n",
        "    if(livefire==1):\n",
        "      multiplier = multiplier-1\n",
        "  else:\n",
        "    multiplier = multiplier - mentor\n",
        "  if(expertteacher==1):\n",
        "    multiplier = multiplier-1\n",
        "  if(multiplier*CR < limiter):\n",
        "    if(int <limiter):\n",
        "      print(\"not enough xp limiter route\")\n",
        "      return int\n",
        "    if(int >= limiter):\n",
        "      print(\"this xp cost was reduced by half from\", limiter*2,\"to\", math.ceil(limiter))\n",
        "      int = int - math.ceil(limiter) \n",
        "      print(\"new xp total is\")\n",
        "      return int\n",
        "  else:\n",
        "    if(int < multiplier * CR):\n",
        "      print(\"not enough xp multiplier route\")\n",
        "      return int\n",
        "    if(int >= multiplier *CR):\n",
        "      print(\"this xp cost was reduced by\", limiter*2 - multiplier*CR,\"from\",limiter*2,\"to\",limiter*2 -(limiter*2-multiplier*CR))\n",
        "      int = int - multiplier*CR   \n",
        "      print(\"new xp total is\")\n",
        "      return int"
      ],
      "execution_count": 0,
      "outputs": []
    },
    {
      "cell_type": "code",
      "metadata": {
        "id": "3aaHwEHNTQSy",
        "colab_type": "code",
        "outputId": "ec893f57-520f-4f26-a5a2-b87141fa8947",
        "colab": {
          "base_uri": "https://localhost:8080/",
          "height": 84
        }
      },
      "source": [
        "virtue(20,1,1,0,0,4)"
      ],
      "execution_count": 0,
      "outputs": [
        {
          "output_type": "stream",
          "text": [
            "This costs 20.0\n",
            "this xp cost was reduced by 8.0 from 20.0 to 12.0\n",
            "new xp total is\n"
          ],
          "name": "stdout"
        },
        {
          "output_type": "execute_result",
          "data": {
            "text/plain": [
              "8"
            ]
          },
          "metadata": {
            "tags": []
          },
          "execution_count": 118
        }
      ]
    },
    {
      "cell_type": "code",
      "metadata": {
        "id": "93j3t7hbTVFX",
        "colab_type": "code",
        "outputId": "31ee347d-4998-4228-ba21-34d807209d44",
        "colab": {
          "base_uri": "https://localhost:8080/",
          "height": 1000
        }
      },
      "source": [
        "#!apt-get install python-dev libxml2-dev libxslt1-dev antiword unrtf poppler-utils \\\n",
        " #    pstotext tesseract-ocr \\\n",
        " #    flac ffmpeg lame libmad0 libsox-fmt-mp3 sox libjpeg-dev swig libasound2-dev libpulse-dev\n",
        "#!pip install git+https://github.com/deanmalmgren/textract"
      ],
      "execution_count": 0,
      "outputs": [
        {
          "output_type": "stream",
          "text": [
            "Reading package lists... Done\n",
            "Building dependency tree       \n",
            "Reading state information... Done\n",
            "libjpeg-dev is already the newest version (8c-2ubuntu8).\n",
            "libjpeg-dev set to manually installed.\n",
            "python-dev is already the newest version (2.7.15~rc1-1).\n",
            "libasound2-dev is already the newest version (1.1.3-5ubuntu0.2).\n",
            "libxml2-dev is already the newest version (2.9.4+dfsg1-6.1ubuntu1.2).\n",
            "ffmpeg is already the newest version (7:3.4.6-0ubuntu0.18.04.1).\n",
            "The following packages were automatically installed and are no longer required:\n",
            "  cuda-cufft-10-1 cuda-cufft-dev-10-1 cuda-curand-10-1 cuda-curand-dev-10-1\n",
            "  cuda-cusolver-10-1 cuda-cusolver-dev-10-1 cuda-cusparse-10-1\n",
            "  cuda-cusparse-dev-10-1 cuda-drivers cuda-npp-10-1 cuda-npp-dev-10-1\n",
            "  cuda-nsight-10-1 cuda-nsight-compute-10-1 cuda-nsight-systems-10-1\n",
            "  cuda-nvgraph-10-1 cuda-nvgraph-dev-10-1 cuda-nvjpeg-10-1\n",
            "  cuda-nvjpeg-dev-10-1 cuda-nvrtc-10-1 cuda-nvrtc-dev-10-1 cuda-nvvp-10-1\n",
            "  default-jre dkms freeglut3 freeglut3-dev keyboard-configuration libargon2-0\n",
            "  libcap2 libcryptsetup12 libdevmapper1.02.1 libfontenc1 libgtk2.0-0\n",
            "  libgtk2.0-common libip4tc0 libjansson4 libnvidia-cfg1-440\n",
            "  libnvidia-common-430 libnvidia-common-440 libnvidia-decode-440\n",
            "  libnvidia-encode-440 libnvidia-fbc1-440 libnvidia-gl-440 libnvidia-ifr1-440\n",
            "  libpam-systemd libpolkit-agent-1-0 libpolkit-backend-1-0\n",
            "  libpolkit-gobject-1-0 libxfont2 libxi-dev libxkbfile1 libxmu-dev\n",
            "  libxmu-headers libxnvctrl0 nsight-compute-2019.5.0 nsight-systems-2019.5.2\n",
            "  nvidia-compute-utils-440 nvidia-dkms-440 nvidia-driver-440\n",
            "  nvidia-kernel-common-440 nvidia-kernel-source-440 nvidia-modprobe\n",
            "  nvidia-settings nvidia-utils-440 openjdk-11-jre policykit-1\n",
            "  policykit-1-gnome python3-xkit screen-resolution-extra systemd systemd-sysv\n",
            "  udev x11-xkb-utils xserver-common xserver-xorg-core-hwe-18.04\n",
            "  xserver-xorg-video-nvidia-440\n",
            "Use 'apt autoremove' to remove them.\n",
            "The following additional packages will be installed:\n",
            "  fonts-droid-fallback fonts-noto-mono ghostscript gsfonts libcupsfilters1\n",
            "  libcupsimage2 libgs9 libgs9-common libid3tag0 libijs-0.35 libjbig2dec0\n",
            "  libmagic-mgc libmagic1 libopencore-amrnb0 libopencore-amrwb0\n",
            "  libpulse-mainloop-glib0 libsox-fmt-alsa libsox-fmt-base libsox3 poppler-data\n",
            "  swig3.0 tesseract-ocr-eng tesseract-ocr-osd\n",
            "Suggested packages:\n",
            "  fonts-noto ghostscript-x lame-doc file libsox-fmt-all fonts-japanese-mincho\n",
            "  | fonts-ipafont-mincho fonts-japanese-gothic | fonts-ipafont-gothic\n",
            "  fonts-arphic-ukai fonts-arphic-uming fonts-nanum swig-doc swig-examples\n",
            "  swig3.0-examples swig3.0-doc\n",
            "The following NEW packages will be installed:\n",
            "  antiword flac fonts-droid-fallback fonts-noto-mono ghostscript gsfonts lame\n",
            "  libcupsfilters1 libcupsimage2 libgs9 libgs9-common libid3tag0 libijs-0.35\n",
            "  libjbig2dec0 libmad0 libmagic-mgc libmagic1 libopencore-amrnb0\n",
            "  libopencore-amrwb0 libpulse-dev libpulse-mainloop-glib0 libsox-fmt-alsa\n",
            "  libsox-fmt-base libsox-fmt-mp3 libsox3 libxslt1-dev poppler-data\n",
            "  poppler-utils pstotext sox swig swig3.0 tesseract-ocr tesseract-ocr-eng\n",
            "  tesseract-ocr-osd unrtf\n",
            "0 upgraded, 36 newly installed, 0 to remove and 6 not upgraded.\n",
            "Need to get 21.9 MB of archives.\n",
            "After this operation, 83.8 MB of additional disk space will be used.\n",
            "Get:1 http://archive.ubuntu.com/ubuntu bionic/main amd64 fonts-droid-fallback all 1:6.0.1r16-1.1 [1,805 kB]\n",
            "Get:2 http://archive.ubuntu.com/ubuntu bionic/universe amd64 libopencore-amrnb0 amd64 0.1.3-2.1 [92.0 kB]\n",
            "Get:3 http://archive.ubuntu.com/ubuntu bionic/universe amd64 libopencore-amrwb0 amd64 0.1.3-2.1 [45.8 kB]\n",
            "Get:4 http://archive.ubuntu.com/ubuntu bionic/main amd64 poppler-data all 0.4.8-2 [1,479 kB]\n",
            "Get:5 http://archive.ubuntu.com/ubuntu bionic-updates/main amd64 libmagic-mgc amd64 1:5.32-2ubuntu0.3 [184 kB]\n",
            "Get:6 http://archive.ubuntu.com/ubuntu bionic-updates/main amd64 libmagic1 amd64 1:5.32-2ubuntu0.3 [68.7 kB]\n",
            "Get:7 http://archive.ubuntu.com/ubuntu bionic/universe amd64 antiword amd64 0.37-11build1 [128 kB]\n",
            "Get:8 http://archive.ubuntu.com/ubuntu bionic/universe amd64 flac amd64 1.3.2-1 [144 kB]\n",
            "Get:9 http://archive.ubuntu.com/ubuntu bionic/main amd64 fonts-noto-mono all 20171026-2 [75.5 kB]\n",
            "Get:10 http://archive.ubuntu.com/ubuntu bionic-updates/main amd64 libcupsimage2 amd64 2.2.7-1ubuntu2.7 [18.6 kB]\n",
            "Get:11 http://archive.ubuntu.com/ubuntu bionic/main amd64 libijs-0.35 amd64 0.35-13 [15.5 kB]\n",
            "Get:12 http://archive.ubuntu.com/ubuntu bionic/main amd64 libjbig2dec0 amd64 0.13-6 [55.9 kB]\n",
            "Get:13 http://archive.ubuntu.com/ubuntu bionic-updates/main amd64 libgs9-common all 9.26~dfsg+0-0ubuntu0.18.04.12 [5,092 kB]\n",
            "Get:14 http://archive.ubuntu.com/ubuntu bionic-updates/main amd64 libgs9 amd64 9.26~dfsg+0-0ubuntu0.18.04.12 [2,264 kB]\n",
            "Get:15 http://archive.ubuntu.com/ubuntu bionic-updates/main amd64 ghostscript amd64 9.26~dfsg+0-0ubuntu0.18.04.12 [50.9 kB]\n",
            "Get:16 http://archive.ubuntu.com/ubuntu bionic/main amd64 gsfonts all 1:8.11+urwcyr1.0.7~pre44-4.4 [3,120 kB]\n",
            "Get:17 http://archive.ubuntu.com/ubuntu bionic/universe amd64 lame amd64 3.100-2 [47.8 kB]\n",
            "Get:18 http://archive.ubuntu.com/ubuntu bionic-updates/main amd64 libcupsfilters1 amd64 1.20.2-0ubuntu3.1 [108 kB]\n",
            "Get:19 http://archive.ubuntu.com/ubuntu bionic/universe amd64 libid3tag0 amd64 0.15.1b-13 [31.2 kB]\n",
            "Get:20 http://archive.ubuntu.com/ubuntu bionic-updates/universe amd64 libmad0 amd64 0.15.1b-9ubuntu18.04.1 [64.6 kB]\n",
            "Get:21 http://archive.ubuntu.com/ubuntu bionic-updates/main amd64 libpulse-mainloop-glib0 amd64 1:11.1-1ubuntu7.2 [22.1 kB]\n",
            "Get:22 http://archive.ubuntu.com/ubuntu bionic-updates/main amd64 libpulse-dev amd64 1:11.1-1ubuntu7.2 [81.5 kB]\n",
            "Get:23 http://archive.ubuntu.com/ubuntu bionic-updates/universe amd64 libsox3 amd64 14.4.2-3ubuntu0.18.04.1 [226 kB]\n",
            "Get:24 http://archive.ubuntu.com/ubuntu bionic-updates/universe amd64 libsox-fmt-alsa amd64 14.4.2-3ubuntu0.18.04.1 [10.6 kB]\n",
            "Get:25 http://archive.ubuntu.com/ubuntu bionic-updates/universe amd64 libsox-fmt-base amd64 14.4.2-3ubuntu0.18.04.1 [32.1 kB]\n",
            "Get:26 http://archive.ubuntu.com/ubuntu bionic-updates/universe amd64 libsox-fmt-mp3 amd64 14.4.2-3ubuntu0.18.04.1 [15.9 kB]\n",
            "Get:27 http://archive.ubuntu.com/ubuntu bionic-updates/main amd64 libxslt1-dev amd64 1.1.29-5ubuntu0.2 [407 kB]\n",
            "Get:28 http://archive.ubuntu.com/ubuntu bionic-updates/main amd64 poppler-utils amd64 0.62.0-2ubuntu2.10 [154 kB]\n",
            "Get:29 http://archive.ubuntu.com/ubuntu bionic/universe amd64 pstotext amd64 1.9-6build1 [32.4 kB]\n",
            "Get:30 http://archive.ubuntu.com/ubuntu bionic-updates/universe amd64 sox amd64 14.4.2-3ubuntu0.18.04.1 [101 kB]\n",
            "Get:31 http://archive.ubuntu.com/ubuntu bionic/universe amd64 swig3.0 amd64 3.0.12-1 [1,094 kB]\n",
            "Get:32 http://archive.ubuntu.com/ubuntu bionic/universe amd64 swig amd64 3.0.12-1 [6,460 B]\n",
            "Get:33 http://archive.ubuntu.com/ubuntu bionic/universe amd64 tesseract-ocr-eng all 4.00~git24-0e00fe6-1.2 [1,588 kB]\n",
            "Get:34 http://archive.ubuntu.com/ubuntu bionic/universe amd64 tesseract-ocr-osd all 4.00~git24-0e00fe6-1.2 [2,989 kB]\n",
            "Get:35 http://archive.ubuntu.com/ubuntu bionic/universe amd64 tesseract-ocr amd64 4.00~git2288-10f4998a-2 [218 kB]\n",
            "Get:36 http://archive.ubuntu.com/ubuntu bionic/universe amd64 unrtf amd64 0.21.9-clean-3 [43.3 kB]\n",
            "Fetched 21.9 MB in 4s (5,514 kB/s)\n",
            "Extracting templates from packages: 100%\n",
            "Selecting previously unselected package fonts-droid-fallback.\n",
            "(Reading database ... 125036 files and directories currently installed.)\n",
            "Preparing to unpack .../00-fonts-droid-fallback_1%3a6.0.1r16-1.1_all.deb ...\n",
            "Unpacking fonts-droid-fallback (1:6.0.1r16-1.1) ...\n",
            "Selecting previously unselected package libopencore-amrnb0:amd64.\n",
            "Preparing to unpack .../01-libopencore-amrnb0_0.1.3-2.1_amd64.deb ...\n",
            "Unpacking libopencore-amrnb0:amd64 (0.1.3-2.1) ...\n",
            "Selecting previously unselected package libopencore-amrwb0:amd64.\n",
            "Preparing to unpack .../02-libopencore-amrwb0_0.1.3-2.1_amd64.deb ...\n",
            "Unpacking libopencore-amrwb0:amd64 (0.1.3-2.1) ...\n",
            "Selecting previously unselected package poppler-data.\n",
            "Preparing to unpack .../03-poppler-data_0.4.8-2_all.deb ...\n",
            "Unpacking poppler-data (0.4.8-2) ...\n",
            "Selecting previously unselected package libmagic-mgc.\n",
            "Preparing to unpack .../04-libmagic-mgc_1%3a5.32-2ubuntu0.3_amd64.deb ...\n",
            "Unpacking libmagic-mgc (1:5.32-2ubuntu0.3) ...\n",
            "Selecting previously unselected package libmagic1:amd64.\n",
            "Preparing to unpack .../05-libmagic1_1%3a5.32-2ubuntu0.3_amd64.deb ...\n",
            "Unpacking libmagic1:amd64 (1:5.32-2ubuntu0.3) ...\n",
            "Selecting previously unselected package antiword.\n",
            "Preparing to unpack .../06-antiword_0.37-11build1_amd64.deb ...\n",
            "Unpacking antiword (0.37-11build1) ...\n",
            "Selecting previously unselected package flac.\n",
            "Preparing to unpack .../07-flac_1.3.2-1_amd64.deb ...\n",
            "Unpacking flac (1.3.2-1) ...\n",
            "Selecting previously unselected package fonts-noto-mono.\n",
            "Preparing to unpack .../08-fonts-noto-mono_20171026-2_all.deb ...\n",
            "Unpacking fonts-noto-mono (20171026-2) ...\n",
            "Selecting previously unselected package libcupsimage2:amd64.\n",
            "Preparing to unpack .../09-libcupsimage2_2.2.7-1ubuntu2.7_amd64.deb ...\n",
            "Unpacking libcupsimage2:amd64 (2.2.7-1ubuntu2.7) ...\n",
            "Selecting previously unselected package libijs-0.35:amd64.\n",
            "Preparing to unpack .../10-libijs-0.35_0.35-13_amd64.deb ...\n",
            "Unpacking libijs-0.35:amd64 (0.35-13) ...\n",
            "Selecting previously unselected package libjbig2dec0:amd64.\n",
            "Preparing to unpack .../11-libjbig2dec0_0.13-6_amd64.deb ...\n",
            "Unpacking libjbig2dec0:amd64 (0.13-6) ...\n",
            "Selecting previously unselected package libgs9-common.\n",
            "Preparing to unpack .../12-libgs9-common_9.26~dfsg+0-0ubuntu0.18.04.12_all.deb ...\n",
            "Unpacking libgs9-common (9.26~dfsg+0-0ubuntu0.18.04.12) ...\n",
            "Selecting previously unselected package libgs9:amd64.\n",
            "Preparing to unpack .../13-libgs9_9.26~dfsg+0-0ubuntu0.18.04.12_amd64.deb ...\n",
            "Unpacking libgs9:amd64 (9.26~dfsg+0-0ubuntu0.18.04.12) ...\n",
            "Selecting previously unselected package ghostscript.\n",
            "Preparing to unpack .../14-ghostscript_9.26~dfsg+0-0ubuntu0.18.04.12_amd64.deb ...\n",
            "Unpacking ghostscript (9.26~dfsg+0-0ubuntu0.18.04.12) ...\n",
            "Selecting previously unselected package gsfonts.\n",
            "Preparing to unpack .../15-gsfonts_1%3a8.11+urwcyr1.0.7~pre44-4.4_all.deb ...\n",
            "Unpacking gsfonts (1:8.11+urwcyr1.0.7~pre44-4.4) ...\n",
            "Selecting previously unselected package lame.\n",
            "Preparing to unpack .../16-lame_3.100-2_amd64.deb ...\n",
            "Unpacking lame (3.100-2) ...\n",
            "Selecting previously unselected package libcupsfilters1:amd64.\n",
            "Preparing to unpack .../17-libcupsfilters1_1.20.2-0ubuntu3.1_amd64.deb ...\n",
            "Unpacking libcupsfilters1:amd64 (1.20.2-0ubuntu3.1) ...\n",
            "Selecting previously unselected package libid3tag0:amd64.\n",
            "Preparing to unpack .../18-libid3tag0_0.15.1b-13_amd64.deb ...\n",
            "Unpacking libid3tag0:amd64 (0.15.1b-13) ...\n",
            "Selecting previously unselected package libmad0:amd64.\n",
            "Preparing to unpack .../19-libmad0_0.15.1b-9ubuntu18.04.1_amd64.deb ...\n",
            "Unpacking libmad0:amd64 (0.15.1b-9ubuntu18.04.1) ...\n",
            "Selecting previously unselected package libpulse-mainloop-glib0:amd64.\n",
            "Preparing to unpack .../20-libpulse-mainloop-glib0_1%3a11.1-1ubuntu7.2_amd64.deb ...\n",
            "Unpacking libpulse-mainloop-glib0:amd64 (1:11.1-1ubuntu7.2) ...\n",
            "Selecting previously unselected package libpulse-dev:amd64.\n",
            "Preparing to unpack .../21-libpulse-dev_1%3a11.1-1ubuntu7.2_amd64.deb ...\n",
            "Unpacking libpulse-dev:amd64 (1:11.1-1ubuntu7.2) ...\n",
            "Selecting previously unselected package libsox3:amd64.\n",
            "Preparing to unpack .../22-libsox3_14.4.2-3ubuntu0.18.04.1_amd64.deb ...\n",
            "Unpacking libsox3:amd64 (14.4.2-3ubuntu0.18.04.1) ...\n",
            "Selecting previously unselected package libsox-fmt-alsa:amd64.\n",
            "Preparing to unpack .../23-libsox-fmt-alsa_14.4.2-3ubuntu0.18.04.1_amd64.deb ...\n",
            "Unpacking libsox-fmt-alsa:amd64 (14.4.2-3ubuntu0.18.04.1) ...\n",
            "Selecting previously unselected package libsox-fmt-base:amd64.\n",
            "Preparing to unpack .../24-libsox-fmt-base_14.4.2-3ubuntu0.18.04.1_amd64.deb ...\n",
            "Unpacking libsox-fmt-base:amd64 (14.4.2-3ubuntu0.18.04.1) ...\n",
            "Selecting previously unselected package libsox-fmt-mp3:amd64.\n",
            "Preparing to unpack .../25-libsox-fmt-mp3_14.4.2-3ubuntu0.18.04.1_amd64.deb ...\n",
            "Unpacking libsox-fmt-mp3:amd64 (14.4.2-3ubuntu0.18.04.1) ...\n",
            "Selecting previously unselected package libxslt1-dev:amd64.\n",
            "Preparing to unpack .../26-libxslt1-dev_1.1.29-5ubuntu0.2_amd64.deb ...\n",
            "Unpacking libxslt1-dev:amd64 (1.1.29-5ubuntu0.2) ...\n",
            "Selecting previously unselected package poppler-utils.\n",
            "Preparing to unpack .../27-poppler-utils_0.62.0-2ubuntu2.10_amd64.deb ...\n",
            "Unpacking poppler-utils (0.62.0-2ubuntu2.10) ...\n",
            "Selecting previously unselected package pstotext.\n",
            "Preparing to unpack .../28-pstotext_1.9-6build1_amd64.deb ...\n",
            "Unpacking pstotext (1.9-6build1) ...\n",
            "Selecting previously unselected package sox.\n",
            "Preparing to unpack .../29-sox_14.4.2-3ubuntu0.18.04.1_amd64.deb ...\n",
            "Unpacking sox (14.4.2-3ubuntu0.18.04.1) ...\n",
            "Selecting previously unselected package swig3.0.\n",
            "Preparing to unpack .../30-swig3.0_3.0.12-1_amd64.deb ...\n",
            "Unpacking swig3.0 (3.0.12-1) ...\n",
            "Selecting previously unselected package swig.\n",
            "Preparing to unpack .../31-swig_3.0.12-1_amd64.deb ...\n",
            "Unpacking swig (3.0.12-1) ...\n",
            "Selecting previously unselected package tesseract-ocr-eng.\n",
            "Preparing to unpack .../32-tesseract-ocr-eng_4.00~git24-0e00fe6-1.2_all.deb ...\n",
            "Unpacking tesseract-ocr-eng (4.00~git24-0e00fe6-1.2) ...\n",
            "Selecting previously unselected package tesseract-ocr-osd.\n",
            "Preparing to unpack .../33-tesseract-ocr-osd_4.00~git24-0e00fe6-1.2_all.deb ...\n",
            "Unpacking tesseract-ocr-osd (4.00~git24-0e00fe6-1.2) ...\n",
            "Selecting previously unselected package tesseract-ocr.\n",
            "Preparing to unpack .../34-tesseract-ocr_4.00~git2288-10f4998a-2_amd64.deb ...\n",
            "Unpacking tesseract-ocr (4.00~git2288-10f4998a-2) ...\n",
            "Selecting previously unselected package unrtf.\n",
            "Preparing to unpack .../35-unrtf_0.21.9-clean-3_amd64.deb ...\n",
            "Unpacking unrtf (0.21.9-clean-3) ...\n",
            "Setting up libgs9-common (9.26~dfsg+0-0ubuntu0.18.04.12) ...\n",
            "Setting up fonts-droid-fallback (1:6.0.1r16-1.1) ...\n",
            "Setting up libid3tag0:amd64 (0.15.1b-13) ...\n",
            "Setting up poppler-utils (0.62.0-2ubuntu2.10) ...\n",
            "Setting up libpulse-mainloop-glib0:amd64 (1:11.1-1ubuntu7.2) ...\n",
            "Setting up libpulse-dev:amd64 (1:11.1-1ubuntu7.2) ...\n",
            "Setting up swig3.0 (3.0.12-1) ...\n",
            "Setting up gsfonts (1:8.11+urwcyr1.0.7~pre44-4.4) ...\n",
            "Setting up poppler-data (0.4.8-2) ...\n",
            "Setting up unrtf (0.21.9-clean-3) ...\n",
            "Setting up libmagic-mgc (1:5.32-2ubuntu0.3) ...\n",
            "Setting up fonts-noto-mono (20171026-2) ...\n",
            "Setting up libmagic1:amd64 (1:5.32-2ubuntu0.3) ...\n",
            "Setting up libcupsfilters1:amd64 (1.20.2-0ubuntu3.1) ...\n",
            "Setting up flac (1.3.2-1) ...\n",
            "Setting up libcupsimage2:amd64 (2.2.7-1ubuntu2.7) ...\n",
            "Setting up lame (3.100-2) ...\n",
            "Setting up tesseract-ocr-osd (4.00~git24-0e00fe6-1.2) ...\n",
            "Setting up libjbig2dec0:amd64 (0.13-6) ...\n",
            "Setting up tesseract-ocr-eng (4.00~git24-0e00fe6-1.2) ...\n",
            "Setting up libijs-0.35:amd64 (0.35-13) ...\n",
            "Setting up libopencore-amrnb0:amd64 (0.1.3-2.1) ...\n",
            "Setting up tesseract-ocr (4.00~git2288-10f4998a-2) ...\n",
            "Setting up libmad0:amd64 (0.15.1b-9ubuntu18.04.1) ...\n",
            "Setting up libopencore-amrwb0:amd64 (0.1.3-2.1) ...\n",
            "Setting up libgs9:amd64 (9.26~dfsg+0-0ubuntu0.18.04.12) ...\n",
            "Setting up libsox3:amd64 (14.4.2-3ubuntu0.18.04.1) ...\n",
            "Setting up antiword (0.37-11build1) ...\n",
            "Setting up libsox-fmt-mp3:amd64 (14.4.2-3ubuntu0.18.04.1) ...\n",
            "Setting up libxslt1-dev:amd64 (1.1.29-5ubuntu0.2) ...\n",
            "Setting up libsox-fmt-base:amd64 (14.4.2-3ubuntu0.18.04.1) ...\n",
            "Setting up swig (3.0.12-1) ...\n",
            "Setting up libsox-fmt-alsa:amd64 (14.4.2-3ubuntu0.18.04.1) ...\n",
            "Setting up ghostscript (9.26~dfsg+0-0ubuntu0.18.04.12) ...\n",
            "Setting up pstotext (1.9-6build1) ...\n",
            "Setting up sox (14.4.2-3ubuntu0.18.04.1) ...\n",
            "Processing triggers for mime-support (3.60ubuntu1) ...\n",
            "Processing triggers for libc-bin (2.27-3ubuntu1) ...\n",
            "Processing triggers for man-db (2.8.3-2ubuntu0.1) ...\n",
            "Processing triggers for hicolor-icon-theme (0.17-2) ...\n",
            "Processing triggers for fontconfig (2.12.6-0ubuntu2) ...\n",
            "Collecting git+https://github.com/deanmalmgren/textract\n",
            "  Cloning https://github.com/deanmalmgren/textract to /tmp/pip-req-build-is5cmcqp\n",
            "  Running command git clone -q https://github.com/deanmalmgren/textract /tmp/pip-req-build-is5cmcqp\n",
            "Collecting argcomplete==1.10.0\n",
            "  Downloading https://files.pythonhosted.org/packages/4d/82/f44c9661e479207348a979b1f6f063625d11dc4ca6256af053719bbb0124/argcomplete-1.10.0-py2.py3-none-any.whl\n",
            "Collecting beautifulsoup4==4.8.0\n",
            "\u001b[?25l  Downloading https://files.pythonhosted.org/packages/1a/b7/34eec2fe5a49718944e215fde81288eec1fa04638aa3fb57c1c6cd0f98c3/beautifulsoup4-4.8.0-py3-none-any.whl (97kB)\n",
            "\u001b[K     |████████████████████████████████| 102kB 7.1MB/s \n",
            "\u001b[?25hRequirement already satisfied: chardet==3.0.4 in /usr/local/lib/python3.6/dist-packages (from textract==1.6.3) (3.0.4)\n",
            "Collecting docx2txt==0.8\n",
            "  Downloading https://files.pythonhosted.org/packages/7d/7d/60ee3f2b16d9bfdfa72e8599470a2c1a5b759cb113c6fe1006be28359327/docx2txt-0.8.tar.gz\n",
            "Collecting EbookLib==0.17.1\n",
            "\u001b[?25l  Downloading https://files.pythonhosted.org/packages/00/38/7d6ab2e569a9165249619d73b7bc6be0e713a899a3bc2513814b6598a84c/EbookLib-0.17.1.tar.gz (111kB)\n",
            "\u001b[K     |████████████████████████████████| 112kB 50.1MB/s \n",
            "\u001b[?25hCollecting extract-msg==0.23.1\n",
            "\u001b[?25l  Downloading https://files.pythonhosted.org/packages/a1/90/84485a914ed90adb5e87df17e626be04162fbba146dfecf34643659a4633/extract_msg-0.23.1-py2.py3-none-any.whl (45kB)\n",
            "\u001b[K     |████████████████████████████████| 51kB 6.8MB/s \n",
            "\u001b[?25hCollecting pdfminer.six==20181108\n",
            "\u001b[?25l  Downloading https://files.pythonhosted.org/packages/8a/fd/6e8746e6965d1a7ea8e97253e3d79e625da5547e8f376f88de5d024bacb9/pdfminer.six-20181108-py2.py3-none-any.whl (5.6MB)\n",
            "\u001b[K     |████████████████████████████████| 5.6MB 44.7MB/s \n",
            "\u001b[?25hCollecting python-pptx==0.6.18\n",
            "\u001b[?25l  Downloading https://files.pythonhosted.org/packages/bf/86/eb979f7b0333ec769041aae36df8b9f1bd8bea5bbad44620663890dce561/python-pptx-0.6.18.tar.gz (8.9MB)\n",
            "\u001b[K     |████████████████████████████████| 8.9MB 40.9MB/s \n",
            "\u001b[?25hRequirement already satisfied: six==1.12.0 in /usr/local/lib/python3.6/dist-packages (from textract==1.6.3) (1.12.0)\n",
            "Collecting SpeechRecognition==3.8.1\n",
            "\u001b[?25l  Downloading https://files.pythonhosted.org/packages/26/e1/7f5678cd94ec1234269d23756dbdaa4c8cfaed973412f88ae8adf7893a50/SpeechRecognition-3.8.1-py2.py3-none-any.whl (32.8MB)\n",
            "\u001b[K     |████████████████████████████████| 32.8MB 69kB/s \n",
            "\u001b[?25hCollecting xlrd==1.2.0\n",
            "\u001b[?25l  Downloading https://files.pythonhosted.org/packages/b0/16/63576a1a001752e34bf8ea62e367997530dc553b689356b9879339cf45a4/xlrd-1.2.0-py2.py3-none-any.whl (103kB)\n",
            "\u001b[K     |████████████████████████████████| 112kB 41.3MB/s \n",
            "\u001b[?25hCollecting soupsieve>=1.2\n",
            "  Downloading https://files.pythonhosted.org/packages/81/94/03c0f04471fc245d08d0a99f7946ac228ca98da4fa75796c507f61e688c2/soupsieve-1.9.5-py2.py3-none-any.whl\n",
            "Requirement already satisfied: lxml in /usr/local/lib/python3.6/dist-packages (from EbookLib==0.17.1->textract==1.6.3) (4.2.6)\n",
            "Requirement already satisfied: tzlocal==1.5.1 in /usr/local/lib/python3.6/dist-packages (from extract-msg==0.23.1->textract==1.6.3) (1.5.1)\n",
            "Requirement already satisfied: olefile==0.46 in /usr/local/lib/python3.6/dist-packages (from extract-msg==0.23.1->textract==1.6.3) (0.46)\n",
            "Collecting imapclient==2.1.0\n",
            "\u001b[?25l  Downloading https://files.pythonhosted.org/packages/dc/39/e1c2c2c6e2356ab6ea81fcfc0a74b044b311d6a91a45300811d9a6077ef7/IMAPClient-2.1.0-py2.py3-none-any.whl (73kB)\n",
            "\u001b[K     |████████████████████████████████| 81kB 9.9MB/s \n",
            "\u001b[?25hCollecting pycryptodome\n",
            "\u001b[?25l  Downloading https://files.pythonhosted.org/packages/93/79/30fb604bf82abbab621ecdbbca932d294e1d4cf95336bb3fc2b5871d297a/pycryptodome-3.9.4-cp36-cp36m-manylinux1_x86_64.whl (9.7MB)\n",
            "\u001b[K     |████████████████████████████████| 9.7MB 36.2MB/s \n",
            "\u001b[?25hRequirement already satisfied: sortedcontainers in /usr/local/lib/python3.6/dist-packages (from pdfminer.six==20181108->textract==1.6.3) (2.1.0)\n",
            "Requirement already satisfied: Pillow>=3.3.2 in /usr/local/lib/python3.6/dist-packages (from python-pptx==0.6.18->textract==1.6.3) (4.3.0)\n",
            "Collecting XlsxWriter>=0.5.7\n",
            "\u001b[?25l  Downloading https://files.pythonhosted.org/packages/f2/16/da654cfbc0b05f2ad253c0f244b0c2a76c403bb774717b39c92653acb290/XlsxWriter-1.2.6-py2.py3-none-any.whl (141kB)\n",
            "\u001b[K     |████████████████████████████████| 143kB 51.4MB/s \n",
            "\u001b[?25hRequirement already satisfied: pytz in /usr/local/lib/python3.6/dist-packages (from tzlocal==1.5.1->extract-msg==0.23.1->textract==1.6.3) (2018.9)\n",
            "Building wheels for collected packages: textract, docx2txt, EbookLib, python-pptx\n",
            "  Building wheel for textract (setup.py) ... \u001b[?25l\u001b[?25hdone\n",
            "  Created wheel for textract: filename=textract-1.6.3-cp36-none-any.whl size=22584 sha256=3eca80aebde41cdb00542db93b6571ac7c43966d2cc541bc31e4d5c3ec4d7ddd\n",
            "  Stored in directory: /tmp/pip-ephem-wheel-cache-4fy4rbxs/wheels/2d/96/77/12db71c19007995a74cda308294e20633470a9a0a3f40f9e21\n",
            "  Building wheel for docx2txt (setup.py) ... \u001b[?25l\u001b[?25hdone\n",
            "  Created wheel for docx2txt: filename=docx2txt-0.8-cp36-none-any.whl size=3965 sha256=f6e372923189962b9824eb7c57449a85f57392474984e4a4e02f28c97354bdd3\n",
            "  Stored in directory: /root/.cache/pip/wheels/b2/1f/26/a051209bbb77fc6bcfae2bb7e01fa0ff941b82292ab084d596\n",
            "  Building wheel for EbookLib (setup.py) ... \u001b[?25l\u001b[?25hdone\n",
            "  Created wheel for EbookLib: filename=EbookLib-0.17.1-cp36-none-any.whl size=38164 sha256=ae7dbff27eded659c91047c8cce4df2c7c72fd757fd40d8e63d1a0dcdc30cb80\n",
            "  Stored in directory: /root/.cache/pip/wheels/84/11/01/951369cbbf8f96878786a1f4da68bd7ac19a5d945b38e03d54\n",
            "  Building wheel for python-pptx (setup.py) ... \u001b[?25l\u001b[?25hdone\n",
            "  Created wheel for python-pptx: filename=python_pptx-0.6.18-cp36-none-any.whl size=275707 sha256=3519571d3d0b85c1472fd353c1e451c774ae2372e089437815e529c3ecca5542\n",
            "  Stored in directory: /root/.cache/pip/wheels/1f/1f/2c/29acca422b420a0b5210bd2cd7e9669804520d602d2462f20b\n",
            "Successfully built textract docx2txt EbookLib python-pptx\n",
            "Installing collected packages: argcomplete, soupsieve, beautifulsoup4, docx2txt, EbookLib, imapclient, extract-msg, pycryptodome, pdfminer.six, XlsxWriter, python-pptx, SpeechRecognition, xlrd, textract\n",
            "  Found existing installation: beautifulsoup4 4.6.3\n",
            "    Uninstalling beautifulsoup4-4.6.3:\n",
            "      Successfully uninstalled beautifulsoup4-4.6.3\n",
            "  Found existing installation: xlrd 1.1.0\n",
            "    Uninstalling xlrd-1.1.0:\n",
            "      Successfully uninstalled xlrd-1.1.0\n",
            "Successfully installed EbookLib-0.17.1 SpeechRecognition-3.8.1 XlsxWriter-1.2.6 argcomplete-1.10.0 beautifulsoup4-4.8.0 docx2txt-0.8 extract-msg-0.23.1 imapclient-2.1.0 pdfminer.six-20181108 pycryptodome-3.9.4 python-pptx-0.6.18 soupsieve-1.9.5 textract-1.6.3 xlrd-1.2.0\n"
          ],
          "name": "stdout"
        }
      ]
    },
    {
      "cell_type": "code",
      "metadata": {
        "id": "AN1f42rVIW7G",
        "colab_type": "code",
        "outputId": "a90e5fa0-eae6-4479-f625-c9363c340383",
        "colab": {
          "base_uri": "https://localhost:8080/",
          "height": 34
        }
      },
      "source": [
        ""
      ],
      "execution_count": 0,
      "outputs": [
        {
          "output_type": "stream",
          "text": [
            "/bin/bash: text: command not found\n"
          ],
          "name": "stdout"
        }
      ]
    },
    {
      "cell_type": "code",
      "metadata": {
        "id": "tEhG8HXnEFVn",
        "colab_type": "code",
        "outputId": "c98b0ba2-48ba-4a5f-8caa-3ba2acb0ec3d",
        "colab": {
          "base_uri": "https://localhost:8080/",
          "height": 197
        }
      },
      "source": [
        "#import docx2txt\n",
        "#my_text = docx2txt.process(\"https://github.com/exalteded/gittest_ejones/blob/master/Elliott_Extra_Credit/Character%20sheets/Alex%20Daring%20-%20Morgan%20Pendragon.doc\")\n",
        "#print(my_text)\n"
      ],
      "execution_count": 0,
      "outputs": [
        {
          "output_type": "error",
          "ename": "TypeError",
          "evalue": "ignored",
          "traceback": [
            "\u001b[0;31m---------------------------------------------------------------------------\u001b[0m",
            "\u001b[0;31mTypeError\u001b[0m                                 Traceback (most recent call last)",
            "\u001b[0;32m<ipython-input-10-6fdd5019171b>\u001b[0m in \u001b[0;36m<module>\u001b[0;34m()\u001b[0m\n\u001b[1;32m      1\u001b[0m \u001b[0;32mimport\u001b[0m \u001b[0mdocx2txt\u001b[0m\u001b[0;34m\u001b[0m\u001b[0;34m\u001b[0m\u001b[0m\n\u001b[0;32m----> 2\u001b[0;31m \u001b[0mmy_text\u001b[0m \u001b[0;34m=\u001b[0m \u001b[0mdocx2txt\u001b[0m\u001b[0;34m.\u001b[0m\u001b[0mprocess\u001b[0m\u001b[0;34m(\u001b[0m\u001b[0;34m\"https://github.com/exalteded/gittest_ejones/blob/master/Elliott_Extra_Credit/Character%20sheets/Alex%20Daring%20-%20Morgan%20Pendragon.doc\"\u001b[0m\u001b[0;34m,\u001b[0m \u001b[0mraw\u001b[0m \u001b[0;34m=\u001b[0m \u001b[0;32mTrue\u001b[0m\u001b[0;34m)\u001b[0m\u001b[0;34m\u001b[0m\u001b[0;34m\u001b[0m\u001b[0m\n\u001b[0m\u001b[1;32m      3\u001b[0m \u001b[0mprint\u001b[0m\u001b[0;34m(\u001b[0m\u001b[0mmy_text\u001b[0m\u001b[0;34m)\u001b[0m\u001b[0;34m\u001b[0m\u001b[0;34m\u001b[0m\u001b[0m\n",
            "\u001b[0;31mTypeError\u001b[0m: process() got an unexpected keyword argument 'raw'"
          ]
        }
      ]
    },
    {
      "cell_type": "code",
      "metadata": {
        "id": "2aNWmHHcYinJ",
        "colab_type": "code",
        "colab": {}
      },
      "source": [
        "class Player:\n",
        "  # player class has \n",
        "  #celerity 5 value true/false\n",
        "  #potence 2 value true/false\n",
        "  #name\n",
        "  # number of labs used\n",
        "  # number of live fires used\n",
        "  # number of expert teachers used\n",
        "  datalocation = ''\n",
        "  Celerity5 = 'False' \n",
        "  Potence2 = 'False'\n",
        "  name = ''\n",
        "  labs = 0\n",
        "  livefires = 0\n",
        "  expertteachers = 0\n",
        "  Totalxp = 0\n",
        "  spentxp = 0\n",
        "\n",
        "\n"
      ],
      "execution_count": 0,
      "outputs": []
    },
    {
      "cell_type": "code",
      "metadata": {
        "id": "ffA1wLXEEpnF",
        "colab_type": "code",
        "colab": {
          "base_uri": "https://localhost:8080/",
          "height": 51
        },
        "outputId": "afd0b62b-5a5d-4efa-9327-16b0ed819ba8"
      },
      "source": [
        "Players = []\n",
        "import urllib.request\n",
        "AlexD = Player()\n",
        "AlexH = Player()\n",
        "AugustoN = Player()\n",
        "BenW = Player()\n",
        "BillyN = Player()\n",
        "BriannaG = Player()\n",
        "BryanI = Player()\n",
        "CalhounP = Player()\n",
        "CarolynS = Player()\n",
        "ChrisT = Player()\n",
        "ClintW = Player()\n",
        "DanB = Player()\n",
        "DerekT = Player()\n",
        "DittoE = Player()\n",
        "DrewA = Player()\n",
        "EdJ = Player()\n",
        "EdR = Player()\n",
        "EDT = Player()\n",
        "EliseS = Player()\n",
        "GaryS = Player()\n",
        "HaroldM = Player()\n",
        "IanS = Player()\n",
        "JakeS = Player()\n",
        "Jasper = Player()\n",
        "JimW = Player()\n",
        "\n",
        "#AlexD.datalocation = urllib.request.urlopen('https://raw.githubusercontent.com/exalteded/gittest_ejones/master/Elliott_Extra_Credit/charachter%20sheets%20txt/Alex%20Daring%20-%20Morgan%20Pendragon.doc.txt')\n",
        "#AlexD.name = \"Alex Doring\"\n",
        "#Players.append(AlexD)\n",
        "\n",
        "def playerget(url,Player,nameas):\n",
        "  Player.datalocation = urllib.request.urlopen(url)\n",
        "  Player.name = nameas\n",
        "  Players.append(call)\n",
        "  print(Players)\n",
        "  for line in Player.datalocation:\n",
        "    if \"Celerity 5\".encode() in line:\n",
        "        Player.Celerity5 = 'True'\n",
        "    if \"Potence 2\".encode() in line:\n",
        "        Player.Potence2 = 'True'\n",
        "    if \"Lab,\".encode() in line:\n",
        "          Player.labs = Player.labs + 1\n",
        "    if  \"Lab)\".encode() in line:\n",
        "          Player.labs = Player.labs + 1\n",
        "    if  \"lab)\".encode() in line:\n",
        "          Player.labs = Player.labs + 1\n",
        "    if  \"lab,\".encode() in line:\n",
        "          Player.labs = Player.labs + 1\n",
        "    if \"live fire\".encode() in line:\n",
        "          Player.livefires = Player.livefires + 1\n",
        "    if \"expert teacher\".encode() in line:\n",
        "          Player.expertteachers = Player.expertteachers + 1\n",
        "    if \"Total Earned:\".encode() in line:\n",
        "      Player.Totalxp = [int(i) for i in line.split() if i.isdigit()][0]\n",
        "    if \"Unspent:\".encode() in line:\n",
        "      Player.Unspent = [int(i) for i in line.split() if i.isdigit()][0]\n",
        "playerget('https://raw.githubusercontent.com/exalteded/gittest_ejones/master/Elliott_Extra_Credit/charachter%20sheets%20txt/Alex%20Daring%20-%20Morgan%20Pendragon.doc.txt', AlexD, \"Alex Doring\")\n",
        "playerget('https://raw.githubusercontent.com/exalteded/gittest_ejones/master/Elliott_Extra_Credit/charachter%20sheets%20txt/Alex%20Herman-%20Vincent%20Santimore.doc.txt', AlexH, 'Alex Herman')\n",
        "playerget('https://github.com/exalteded/gittest_ejones/raw/master/Elliott_Extra_Credit/charachter%20sheets%20txt/Augusto%20N.%20-%20Julian.doc.txt', AugustoN, \"Gus Natilini\")\n",
        "playerget('https://github.com/exalteded/gittest_ejones/raw/master/Elliott_Extra_Credit/charachter%20sheets%20txt/Ben%20Walker%20-%20Mike%20Hoffmann.doc.txt',BenW, \"Ben Walker\")\n",
        "playerget('https://github.com/exalteded/gittest_ejones/raw/master/Elliott_Extra_Credit/charachter%20sheets%20txt/Billy%20Nyce%20-%20Stephen%20J.%20Fenedick.doc.txt', BillyN, \"Billy Nyce\")\n",
        "playerget('https://github.com/exalteded/gittest_ejones/raw/master/Elliott_Extra_Credit/charachter%20sheets%20txt/Brianna%20Grimes%20-%20Victoria%20Riesman.doc.txt',BriannaG \"Brianna Grimes\")\n",
        "playerget('http://zgithub.com/exalteded/gittest_ejones/blob/master/Elliott_Extra_Credit/charachter%20sheets%20txt/Bryan%20Irelan%20-%20Tailor%20Becker.doc.txt', BryanI, \"Bryan Irelan\")\n",
        "playerget(\"https://github.com/exalteded/gittest_ejones/raw/master/Elliott_Extra_Credit/charachter%20sheets%20txt/Carolyn%20Susie%20-%20Bainbridge.doc.txt\", CalhounP, \"Calhoun Parker\")\n",
        "playerget('https://github.com/exalteded/gittest_ejones/raw/master/Elliott_Extra_Credit/charachter%20sheets%20txt/Carolyn%20Susie%20-%20Bainbridge.doc.txt', CarolynS, \"Caroyln Susie\")\n",
        "playerget(\"https://github.com/exalteded/gittest_ejones/raw/master/Elliott_Extra_Credit/charachter%20sheets%20txt/Chris%20Travers%20-%20Goat.doc.txt\", ChrisT, \"Chris Travers\")\n",
        "playerget('https://github.com/exalteded/gittest_ejones/raw/master/Elliott_Extra_Credit/charachter%20sheets%20txt/Clint%20W%20-%20Haegl.doc.txt',ClintW, \"Clint\")\n",
        "playerget('https://github.com/exalteded/gittest_ejones/raw/master/Elliott_Extra_Credit/charachter%20sheets%20txt/Dan%20Bartlett%20-%20Scrap.doc.txt', DanB, \"Dan Bartlett\" )\n",
        "playerget('https://github.com/exalteded/gittest_ejones/raw/master/Elliott_Extra_Credit/charachter%20sheets%20txt/Derek%20Thompson%20-%20Malcolm%20Gibson.doc.txt',DerekT, \"Derek Thompson\")\n",
        "playerget('https://github.com/exalteded/gittest_ejones/raw/master/Elliott_Extra_Credit/charachter%20sheets%20txt/Ditto-Evan%20-%20Sabin%20Anagnos.doc.txt', DittoE, \"Ditto-Evan\")\n",
        "playerget('https://github.com/exalteded/gittest_ejones/raw/master/Elliott_Extra_Credit/charachter%20sheets%20txt/Drew%20-%20Adrien.doc.txt',DrewA, \"Drew\")\n",
        "playerget('https://github.com/exalteded/gittest_ejones/raw/master/Elliott_Extra_Credit/charachter%20sheets%20txt/Ed%20Jones%20-%20Morgan.doc.txt',EdJ, 'Ed Jones')\n",
        "playerget('https://github.com/exalteded/gittest_ejones/raw/master/Elliott_Extra_Credit/charachter%20sheets%20txt/Ed%20Redmond%20-%20Johnny.doc.txt',EdR, \"Ed Redmond\")\n",
        "playerget('https://github.com/exalteded/gittest_ejones/raw/master/Elliott_Extra_Credit/charachter%20sheets%20txt/Edwin%20Torres%20-%20Maximilian%20_Max_%20Aguilar.doc.txt', EdT, 'Edwin Torres')\n",
        "playerget('https://github.com/exalteded/gittest_ejones/raw/master/Elliott_Extra_Credit/charachter%20sheets%20txt/Elise%20-%20Casey%20%E2%80%9CMouse%E2%80%9D%20Seward.doc.txt', EliseS, \"Elise Shealy\")\n",
        "playerget('https://github.com/exalteded/gittest_ejones/raw/master/Elliott_Extra_Credit/charachter%20sheets%20txt/Gary%20Snyder%20-%20James%20Winchester.doc.txt', GaryS, \"Gary Snyder\" )\n",
        "playerget('https://github.com/exalteded/gittest_ejones/raw/master/Elliott_Extra_Credit/charachter%20sheets%20txt/Harold%20Mikolaitis%20-%20Angelo%20Dante%20Giovanni.doc.txt', HaroldM, 'Harold Mikolitas')"
      ],
      "execution_count": 120,
      "outputs": [
        {
          "output_type": "stream",
          "text": [
            "[<__main__.Player object at 0x7f31f5deb198>]\n",
            "[<__main__.Player object at 0x7f31f5deb198>, <__main__.Player object at 0x7f31f5f560b8>]\n"
          ],
          "name": "stdout"
        }
      ]
    },
    {
      "cell_type": "code",
      "metadata": {
        "id": "aSnT-IQyZlmv",
        "colab_type": "code",
        "colab": {
          "base_uri": "https://localhost:8080/",
          "height": 34
        },
        "outputId": "13940609-b404-4daa-d2bb-ede44d5519e3"
      },
      "source": [
        "print(AlexD.Celerity5,AlexD.name,AlexD.Potence2,AlexD.labs, AlexD.expertteachers,AlexD.livefires,AlexD.datalocation, AlexD.Totalxp,AlexD.Unspent)"
      ],
      "execution_count": 114,
      "outputs": [
        {
          "output_type": "stream",
          "text": [
            "False Alex Doring True 12 9 10 <http.client.HTTPResponse object at 0x7f31f5f560b8> 113 7\n"
          ],
          "name": "stdout"
        }
      ]
    },
    {
      "cell_type": "code",
      "metadata": {
        "id": "w-yF9NGISB36",
        "colab_type": "code",
        "colab": {
          "base_uri": "https://localhost:8080/",
          "height": 34
        },
        "outputId": "52d91113-4f57-4e25-b589-c8b6e6599548"
      },
      "source": [
        "AlexD.Totalxp[0]"
      ],
      "execution_count": 97,
      "outputs": [
        {
          "output_type": "execute_result",
          "data": {
            "text/plain": [
              "113"
            ]
          },
          "metadata": {
            "tags": []
          },
          "execution_count": 97
        }
      ]
    },
    {
      "cell_type": "code",
      "metadata": {
        "id": "8lS7QTKzQCHC",
        "colab_type": "code",
        "colab": {
          "base_uri": "https://localhost:8080/",
          "height": 34
        },
        "outputId": "e8a99cac-ba58-438b-f364-2f57d0453cf5"
      },
      "source": [
        "AlexH.Totalxp"
      ],
      "execution_count": 121,
      "outputs": [
        {
          "output_type": "execute_result",
          "data": {
            "text/plain": [
              "162"
            ]
          },
          "metadata": {
            "tags": []
          },
          "execution_count": 121
        }
      ]
    },
    {
      "cell_type": "code",
      "metadata": {
        "id": "u1zI5-OskJKX",
        "colab_type": "code",
        "colab": {}
      },
      "source": [
        ""
      ],
      "execution_count": 0,
      "outputs": []
    }
  ]
}